{
 "cells": [
  {
   "cell_type": "markdown",
   "metadata": {},
   "source": [
    "# Digit_Recognition using CNN on MNIST dataset "
   ]
  },
  {
   "cell_type": "markdown",
   "metadata": {},
   "source": [
    "Several machine learning models have been used to classify digits including Linear Classifiers,K-Nearest Neighbors,Boosted Stumps,Non-Linear Classifiers,SVMs,Neural Nets.Bust the best accuracy has been achieved by using the CNN models. Here I have used keras and tensorflow to create a simle dounled layered CNN with 3 more FLs. The model has achieved an accuracy of 99.04000163078308% on the test set."
   ]
  },
  {
   "cell_type": "code",
   "execution_count": null,
   "metadata": {
    "colab": {
     "base_uri": "https://localhost:8080/",
     "height": 519
    },
    "colab_type": "code",
    "id": "TLGKItUFb9Zi",
    "outputId": "b1813be1-a697-4d2f-99c2-01baaa20f502"
   },
   "outputs": [],
   "source": [
    "# import keras\n",
    "from keras.datasets import mnist\n",
    "import matplotlib.pyplot as plt\n",
    "# the MNIST dataset\n",
    "(x_train, y_train), (x_test, y_test) = mnist.load_data()\n",
    "print(x_train.shape, y_train.shape)"
   ]
  },
  {
   "cell_type": "code",
   "execution_count": 41,
   "metadata": {
    "colab": {
     "base_uri": "https://localhost:8080/",
     "height": 268
    },
    "colab_type": "code",
    "id": "VH3M22Qfepuc",
    "outputId": "6f29c5f2-18f3-41e1-9a7e-9a8b483e7391"
   },
   "outputs": [
    {
     "data": {
      "image/png": "[encoded data removed]",
      "text/plain": [
       "<Figure size 432x288 with 4 Axes>"
      ]
     },
     "metadata": {
      "needs_background": "light"
     },
     "output_type": "display_data"
    }
   ],
   "source": [
    "# plot 4 images as gray scale\n",
    "plt.subplot(221)\n",
    "plt.imshow(x_train[0])\n",
    "plt.subplot(222)\n",
    "plt.imshow(x_train[1])\n",
    "plt.subplot(223)\n",
    "plt.imshow(x_train[59998], cmap=plt.get_cmap('gray'))\n",
    "plt.subplot(224)\n",
    "plt.imshow(x_train[59999], cmap=plt.get_cmap('gray'))\n",
    "# show the plot\n",
    "plt.show()"
   ]
  },
  {
   "cell_type": "code",
   "execution_count": 42,
   "metadata": {
    "colab": {},
    "colab_type": "code",
    "id": "A1korGngewQw"
   },
   "outputs": [],
   "source": [
    "# Reshaping the array to 4-dims so that it can work with the Keras API(for extra info refer to the keras documentation)\n",
    "x_train = x_train.reshape(x_train.shape[0], 28, 28, 1)\n",
    "x_test = x_test.reshape(x_test.shape[0], 28, 28, 1)\n",
    "input_shape = (28, 28, 1)\n",
    "\n",
    "# Making sure that the values are float so that we can get decimal points after division\n",
    "x_train = x_train.astype('float32')\n",
    "x_test = x_test.astype('float32')"
   ]
  },
  {
   "cell_type": "code",
   "execution_count": 43,
   "metadata": {
    "colab": {
     "base_uri": "https://localhost:8080/",
     "height": 67
    },
    "colab_type": "code",
    "id": "lxB159a2hA2y",
    "outputId": "11050187-b86e-4f73-fad9-2d14e7a19267"
   },
   "outputs": [
    {
     "name": "stdout",
     "output_type": "stream",
     "text": [
      "x_train shape: (60000, 28, 28, 1)\n",
      "Number of images in x_train 60000\n",
      "Number of images in x_test 10000\n"
     ]
    }
   ],
   "source": [
    "# Normalizing the RGB valurs by dividing by the max RGB value.\n",
    "x_train /= 255\n",
    "x_test /= 255\n",
    "print('x_train shape:', x_train.shape)\n",
    "print('Number of images in x_train', x_train.shape[0])\n",
    "print('Number of images in x_test', x_test.shape[0])"
   ]
  },
  {
   "cell_type": "code",
   "execution_count": 44,
   "metadata": {
    "colab": {},
    "colab_type": "code",
    "id": "MALOnUTKSRdL"
   },
   "outputs": [],
   "source": [
    "num_classes = 10\n",
    "# convert class vectors to binary class matrices\n",
    "y_train = keras.utils.to_categorical(y_train, num_classes)\n",
    "y_test = keras.utils.to_categorical(y_test, num_classes)"
   ]
  },
  {
   "cell_type": "code",
   "execution_count": 45,
   "metadata": {
    "colab": {},
    "colab_type": "code",
    "id": "aMetGmOfirgQ"
   },
   "outputs": [],
   "source": [
    "#import keras modules\n",
    "from keras.models import Sequential\n",
    "from keras.layers import Dense, Conv2D, Dropout, Flatten, MaxPooling2D\n",
    "from keras import backend as K"
   ]
  },
  {
   "cell_type": "code",
   "execution_count": 46,
   "metadata": {
    "colab": {},
    "colab_type": "code",
    "id": "4i4DPfsnjXkL"
   },
   "outputs": [],
   "source": [
    "#we can play around with the hyperparameters to see the effect of their change\n",
    "model = Sequential()\n",
    "model.add(Conv2D(32, kernel_size=(3,3), activation='relu', input_shape=input_shape))\n",
    "model.add(MaxPooling2D(pool_size=(2, 2)))\n",
    "model.add(Conv2D(64, kernel_size=(3,3), input_shape=input_shape))\n",
    "model.add(MaxPooling2D(pool_size=(2, 2)))\n",
    "# Flattening the 2D arrays for fully connected layers\n",
    "model.add(Flatten()) \n",
    "model.add(Dense(128, activation='relu'))\n",
    "model.add(Dropout(0.2))\n",
    "model.add(Dense(num_classes, activation='softmax'))"
   ]
  },
  {
   "cell_type": "code",
   "execution_count": 47,
   "metadata": {
    "colab": {},
    "colab_type": "code",
    "id": "1LNvJu0AkCY-"
   },
   "outputs": [],
   "source": [
    "model.compile(loss=keras.losses.categorical_crossentropy,optimizer=keras.optimizers.Adadelta(),metrics=['accuracy'])\n",
    "#Adam() may also be used as optimiser, in the original LeNet5 paper Adam optimiser was used"
   ]
  },
  {
   "cell_type": "code",
   "execution_count": 48,
   "metadata": {
    "colab": {
     "base_uri": "https://localhost:8080/",
     "height": 386
    },
    "colab_type": "code",
    "id": "OBaFTlXsUJ2u",
    "outputId": "34984850-27df-485a-bb0c-db1b8e6fe573"
   },
   "outputs": [
    {
     "name": "stdout",
     "output_type": "stream",
     "text": [
      "Train on 60000 samples, validate on 10000 samples\n",
      "Epoch 1/10\n",
      "60000/60000 [==============================] - 25s 411us/step - loss: 0.2249 - accuracy: 0.9313 - val_loss: 0.0664 - val_accuracy: 0.9793\n",
      "Epoch 2/10\n",
      "60000/60000 [==============================] - 25s 422us/step - loss: 0.0672 - accuracy: 0.9797 - val_loss: 0.0431 - val_accuracy: 0.9859\n",
      "Epoch 3/10\n",
      "60000/60000 [==============================] - 23s 391us/step - loss: 0.0485 - accuracy: 0.9851 - val_loss: 0.0346 - val_accuracy: 0.9880\n",
      "Epoch 4/10\n",
      "60000/60000 [==============================] - 25s 415us/step - loss: 0.0367 - accuracy: 0.9882 - val_loss: 0.0334 - val_accuracy: 0.9890\n",
      "Epoch 5/10\n",
      "60000/60000 [==============================] - 26s 441us/step - loss: 0.0303 - accuracy: 0.9904 - val_loss: 0.0284 - val_accuracy: 0.9904\n",
      "Epoch 6/10\n",
      "60000/60000 [==============================] - 25s 413us/step - loss: 0.0255 - accuracy: 0.9920 - val_loss: 0.0380 - val_accuracy: 0.9881\n",
      "Epoch 7/10\n",
      "60000/60000 [==============================] - 26s 428us/step - loss: 0.0205 - accuracy: 0.9937 - val_loss: 0.0279 - val_accuracy: 0.9910\n",
      "Epoch 8/10\n",
      "60000/60000 [==============================] - 27s 444us/step - loss: 0.0185 - accuracy: 0.9943 - val_loss: 0.0261 - val_accuracy: 0.9914\n",
      "Epoch 9/10\n",
      "60000/60000 [==============================] - 26s 440us/step - loss: 0.0154 - accuracy: 0.9951 - val_loss: 0.0301 - val_accuracy: 0.9902\n",
      "Epoch 10/10\n",
      "60000/60000 [==============================] - 26s 432us/step - loss: 0.0140 - accuracy: 0.9956 - val_loss: 0.0320 - val_accuracy: 0.9904\n",
      "The model has been succefully trained.\n"
     ]
    }
   ],
   "source": [
    "batch_size = 128\n",
    "epochs = 10\n",
    "hist = model.fit(x=x_train, y=y_train, batch_size=batch_size, epochs=epochs,verbose=1,validation_data=(x_test, y_test))\n",
    "print(\"The model has been succefully trained.\")"
   ]
  },
  {
   "cell_type": "code",
   "execution_count": 49,
   "metadata": {
    "colab": {
     "base_uri": "https://localhost:8080/",
     "height": 67
    },
    "colab_type": "code",
    "id": "HiEL3fk5k8Yl",
    "outputId": "59cb9f07-7a7b-4ac1-f6d4-156e03dd36b2"
   },
   "outputs": [
    {
     "name": "stdout",
     "output_type": "stream",
     "text": [
      "10000/10000 [==============================] - 2s 162us/step\n",
      "Test loss: 0.03200948908796604\n",
      "Test accuracy: 0.9904000163078308\n"
     ]
    }
   ],
   "source": [
    "model.evaluate(x_test, y_test)\n",
    "score = model.evaluate(x_test, y_test, verbose=0)\n",
    "print('Test loss:', score[0])\n",
    "print('Test accuracy:', score[1])"
   ]
  },
  {
   "cell_type": "code",
   "execution_count": 50,
   "metadata": {
    "colab": {
     "base_uri": "https://localhost:8080/",
     "height": 282
    },
    "colab_type": "code",
    "id": "NUsEKlSGntm_",
    "outputId": "8fc45889-a31a-43ed-b386-7aa29dea8622"
   },
   "outputs": [
    {
     "name": "stdout",
     "output_type": "stream",
     "text": [
      "The number predicted is :  9\n"
     ]
    },
    {
     "data": {
      "image/png": "[encoded data removed]",
      "text/plain": [
       "<Figure size 432x288 with 1 Axes>"
      ]
     },
     "metadata": {
      "needs_background": "light"
     },
     "output_type": "display_data"
    }
   ],
   "source": [
    "image_index = 4444\n",
    "plt.imshow(x_test[image_index].reshape(28, 28),cmap='Greys')\n",
    "pred = model.predict(x_test[image_index].reshape(1, 28, 28, 1))\n",
    "print('The number predicted is : ', pred.argmax())"
   ]
  },
  {
   "cell_type": "code",
   "execution_count": null,
   "metadata": {},
   "outputs": [],
   "source": []
  }
 ],
 "metadata": {
  "accelerator": "GPU",
  "colab": {
   "name": "mnist_digit_classifier1.ipynb",
   "provenance": []
  },
  "kernelspec": {
   "display_name": "Python 3",
   "language": "python",
   "name": "python3"
  },
  "language_info": {
   "codemirror_mode": {
    "name": "ipython",
    "version": 3
   },
   "file_extension": ".py",
   "mimetype": "text/x-python",
   "name": "python",
   "nbconvert_exporter": "python",
   "pygments_lexer": "ipython3",
   "version": "3.7.6"
  }
 },
 "nbformat": 4,
 "nbformat_minor": 1
}
